{
 "cells": [
  {
   "cell_type": "markdown",
   "metadata": {},
   "source": [
    "# Notes on Coding Tasks\n",
    "\n",
    "* data will be published on Dec 1st, 2020 at 12am on the excercise webpage\n",
    "* you will get 2 files: one for training (contains labels), one for evaluation (does not contain labels)\n",
    "* for evaluation, upload your predictions in the same format as the download \n",
    "    * each data sample in a file has a unique id\n",
    "        * upload only the data sample id and your predicted label\n",
    "        * don't upload the input data (there is a size limit for each upload)\n",
    "* format: JSON\n",
    "    * python has built-in functionallity to read / write JSON\n",
    "    * if you never used it (with python), there is a short overview: https://realpython.com/python-json/\n"
   ]
  },
  {
   "cell_type": "markdown",
   "metadata": {},
   "source": [
    "### NLU train data\n",
    "\n",
    "```\n",
    "{\n",
    "    \"0\": {\n",
    "        \"intent\": \"AddToPlaylist\",\n",
    "        \"text\": \"Add a tune to my elrow Guest List\",\n",
    "        \"slots\": {\n",
    "            \"music_item\": \"tune\",\n",
    "            \"playlist_owner\": \"my\",\n",
    "            \"playlist\": \"elrow Guest List\"\n",
    "        },\n",
    "        \"positions\": {\n",
    "            \"music_item\": [\n",
    "                6,\n",
    "                9\n",
    "            ],\n",
    "            \"playlist_owner\": [\n",
    "                14,\n",
    "                15\n",
    "            ],\n",
    "            \"playlist\": [\n",
    "                17,\n",
    "                32\n",
    "            ]\n",
    "        }\n",
    "    },\n",
    "    \"1\": {\n",
    "        \"intent\": \"AddToPlaylist\",\n",
    "        \"text\": \"Add a guy is a guy to the infinite indie folk playlist.\",\n",
    "        \"slots\": {\n",
    "            \"entity_name\": \"a guy is a guy\",\n",
    "            \"playlist\": \"infinite indie folk\"\n",
    "        },\n",
    "        \"positions\": {\n",
    "            \"entity_name\": [\n",
    "                4,\n",
    "                17\n",
    "            ],\n",
    "            \"playlist\": [\n",
    "                26,\n",
    "                44\n",
    "            ]\n",
    "        }\n",
    "    },\n",
    "...\n",
    "    ```\n",
    "    \n",
    "**Upload your predictions without \"text\" and \"position\" fields!**"
   ]
  },
  {
   "cell_type": "markdown",
   "metadata": {},
   "source": [
    "### Emotion train data\n",
    "\n",
    "`features`-entry contains a list of a list with 26 items.\n",
    "* length of inner list: 26 (float numbers - represent one preprocessed speech frame (logMel))\n",
    "* length of outer list: number of frames per data-point, e.g. 10 or 15, ...\n",
    "* for easy parsing into an array, have a look at e.g. https://docs.scipy.org/doc/numpy-1.15.1/reference/generated/numpy.fromstring.html\n",
    "\n",
    "```\n",
    "{\"0\": {\"valence\": 0, \n",
    "       \"activation\": 1,\n",
    "       \"features\": [[5.502810676891276, 5.389630715979907, 5.89079939835461, 5.462222408074205, 5.482823967430299, 6.776999420417389, 7.500191549370183, 8.304382413190043, 8.01058604345238, 6.033706406358724, 7.067212416470815, 6.4463667723745965, 6.923879604046541, 8.091544891207468, 7.972158444902915, 7.641215050710871, 7.1507373690379525, 7.507756141316357, 7.074741477204279, 7.992954055443716, 7.576059013864094, 7.7207549746760975, 8.649263126832178, 8.220149828892483, 6.811228837696475, 6.457873509412178], [...], ...]\n",
    "       },\n",
    " \"1: \"valence\": 1, \n",
    "       \"activation\": 1,\n",
    "       \"features\": [[3.502810676891276, 5.389630715979907, 5.89079939835461, 5.462222408074205, 5.482823967430299, 6.776999420417389, 7.500191549370183, 8.304382413190043, 8.01058604345238, 6.033706406358724, 7.067212416470815, 6.4463667723745965, 2.923879604046541, 8.091544891207468, 7.972158444902915, 7.641215050710871, 7.1507373690379525, 7.507756141316357, 7.074741477204279, 7.992954055443716, 7.576059013864094, 7.7207549746760975, 8.649263126832178, 8.220149828892483, 6.811228837696475, 6.457873509412178], [...], ...]\n",
    "       },\n",
    "       ...\n",
    "```\n",
    "\n",
    "**Upload your predictions without \"features\" fields!**"
   ]
  }
 ],
 "metadata": {
  "kernelspec": {
   "display_name": "Python 3",
   "language": "python",
   "name": "python3"
  },
  "language_info": {
   "codemirror_mode": {
    "name": "ipython",
    "version": 3
   },
   "file_extension": ".py",
   "mimetype": "text/x-python",
   "name": "python",
   "nbconvert_exporter": "python",
   "pygments_lexer": "ipython3",
   "version": "3.8.5"
  }
 },
 "nbformat": 4,
 "nbformat_minor": 4
}
