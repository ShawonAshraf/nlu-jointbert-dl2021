{
  "nbformat": 4,
  "nbformat_minor": 0,
  "metadata": {
    "kernelspec": {
      "display_name": "Python 3",
      "language": "python",
      "name": "python3"
    },
    "language_info": {
      "codemirror_mode": {
        "name": "ipython",
        "version": 3
      },
      "file_extension": ".py",
      "mimetype": "text/x-python",
      "name": "python",
      "nbconvert_exporter": "python",
      "pygments_lexer": "ipython3",
      "version": "3.7.9"
    },
    "colab": {
      "name": "nlu_jointbert_dl21.ipynb",
      "provenance": [],
      "collapsed_sections": [],
      "toc_visible": true
    },
    "accelerator": "GPU",
    "widgets": {
      "application/vnd.jupyter.widget-state+json": {
        "722ead4fc16a43fea0d1812e245b9c34": {
          "model_module": "@jupyter-widgets/controls",
          "model_name": "HBoxModel",
          "state": {
            "_view_name": "HBoxView",
            "_dom_classes": [],
            "_model_name": "HBoxModel",
            "_view_module": "@jupyter-widgets/controls",
            "_model_module_version": "1.5.0",
            "_view_count": null,
            "_view_module_version": "1.5.0",
            "box_style": "",
            "layout": "IPY_MODEL_463e2caa5bbd4f46b0bd47223c2f5a60",
            "_model_module": "@jupyter-widgets/controls",
            "children": [
              "IPY_MODEL_96e22e70086c46429b19276cad25aa68",
              "IPY_MODEL_a0c1f0540397497da9605b43928b6ff7"
            ]
          }
        },
        "463e2caa5bbd4f46b0bd47223c2f5a60": {
          "model_module": "@jupyter-widgets/base",
          "model_name": "LayoutModel",
          "state": {
            "_view_name": "LayoutView",
            "grid_template_rows": null,
            "right": null,
            "justify_content": null,
            "_view_module": "@jupyter-widgets/base",
            "overflow": null,
            "_model_module_version": "1.2.0",
            "_view_count": null,
            "flex_flow": null,
            "width": null,
            "min_width": null,
            "border": null,
            "align_items": null,
            "bottom": null,
            "_model_module": "@jupyter-widgets/base",
            "top": null,
            "grid_column": null,
            "overflow_y": null,
            "overflow_x": null,
            "grid_auto_flow": null,
            "grid_area": null,
            "grid_template_columns": null,
            "flex": null,
            "_model_name": "LayoutModel",
            "justify_items": null,
            "grid_row": null,
            "max_height": null,
            "align_content": null,
            "visibility": null,
            "align_self": null,
            "height": null,
            "min_height": null,
            "padding": null,
            "grid_auto_rows": null,
            "grid_gap": null,
            "max_width": null,
            "order": null,
            "_view_module_version": "1.2.0",
            "grid_template_areas": null,
            "object_position": null,
            "object_fit": null,
            "grid_auto_columns": null,
            "margin": null,
            "display": null,
            "left": null
          }
        },
        "96e22e70086c46429b19276cad25aa68": {
          "model_module": "@jupyter-widgets/controls",
          "model_name": "FloatProgressModel",
          "state": {
            "_view_name": "ProgressView",
            "style": "IPY_MODEL_cd192906e7e54ff298dabb72dd3415a0",
            "_dom_classes": [],
            "description": "Downloading: 100%",
            "_model_name": "FloatProgressModel",
            "bar_style": "success",
            "max": 433,
            "_view_module": "@jupyter-widgets/controls",
            "_model_module_version": "1.5.0",
            "value": 433,
            "_view_count": null,
            "_view_module_version": "1.5.0",
            "orientation": "horizontal",
            "min": 0,
            "description_tooltip": null,
            "_model_module": "@jupyter-widgets/controls",
            "layout": "IPY_MODEL_6713d202d10a4091be4da47a9b2557c7"
          }
        },
        "a0c1f0540397497da9605b43928b6ff7": {
          "model_module": "@jupyter-widgets/controls",
          "model_name": "HTMLModel",
          "state": {
            "_view_name": "HTMLView",
            "style": "IPY_MODEL_596fe66cd9704448a600587b59459fd7",
            "_dom_classes": [],
            "description": "",
            "_model_name": "HTMLModel",
            "placeholder": "​",
            "_view_module": "@jupyter-widgets/controls",
            "_model_module_version": "1.5.0",
            "value": " 433/433 [00:00&lt;00:00, 4.04kB/s]",
            "_view_count": null,
            "_view_module_version": "1.5.0",
            "description_tooltip": null,
            "_model_module": "@jupyter-widgets/controls",
            "layout": "IPY_MODEL_eaa5825b6bd245eb81dc69bd6f6638aa"
          }
        },
        "cd192906e7e54ff298dabb72dd3415a0": {
          "model_module": "@jupyter-widgets/controls",
          "model_name": "ProgressStyleModel",
          "state": {
            "_view_name": "StyleView",
            "_model_name": "ProgressStyleModel",
            "description_width": "initial",
            "_view_module": "@jupyter-widgets/base",
            "_model_module_version": "1.5.0",
            "_view_count": null,
            "_view_module_version": "1.2.0",
            "bar_color": null,
            "_model_module": "@jupyter-widgets/controls"
          }
        },
        "6713d202d10a4091be4da47a9b2557c7": {
          "model_module": "@jupyter-widgets/base",
          "model_name": "LayoutModel",
          "state": {
            "_view_name": "LayoutView",
            "grid_template_rows": null,
            "right": null,
            "justify_content": null,
            "_view_module": "@jupyter-widgets/base",
            "overflow": null,
            "_model_module_version": "1.2.0",
            "_view_count": null,
            "flex_flow": null,
            "width": null,
            "min_width": null,
            "border": null,
            "align_items": null,
            "bottom": null,
            "_model_module": "@jupyter-widgets/base",
            "top": null,
            "grid_column": null,
            "overflow_y": null,
            "overflow_x": null,
            "grid_auto_flow": null,
            "grid_area": null,
            "grid_template_columns": null,
            "flex": null,
            "_model_name": "LayoutModel",
            "justify_items": null,
            "grid_row": null,
            "max_height": null,
            "align_content": null,
            "visibility": null,
            "align_self": null,
            "height": null,
            "min_height": null,
            "padding": null,
            "grid_auto_rows": null,
            "grid_gap": null,
            "max_width": null,
            "order": null,
            "_view_module_version": "1.2.0",
            "grid_template_areas": null,
            "object_position": null,
            "object_fit": null,
            "grid_auto_columns": null,
            "margin": null,
            "display": null,
            "left": null
          }
        },
        "596fe66cd9704448a600587b59459fd7": {
          "model_module": "@jupyter-widgets/controls",
          "model_name": "DescriptionStyleModel",
          "state": {
            "_view_name": "StyleView",
            "_model_name": "DescriptionStyleModel",
            "description_width": "",
            "_view_module": "@jupyter-widgets/base",
            "_model_module_version": "1.5.0",
            "_view_count": null,
            "_view_module_version": "1.2.0",
            "_model_module": "@jupyter-widgets/controls"
          }
        },
        "eaa5825b6bd245eb81dc69bd6f6638aa": {
          "model_module": "@jupyter-widgets/base",
          "model_name": "LayoutModel",
          "state": {
            "_view_name": "LayoutView",
            "grid_template_rows": null,
            "right": null,
            "justify_content": null,
            "_view_module": "@jupyter-widgets/base",
            "overflow": null,
            "_model_module_version": "1.2.0",
            "_view_count": null,
            "flex_flow": null,
            "width": null,
            "min_width": null,
            "border": null,
            "align_items": null,
            "bottom": null,
            "_model_module": "@jupyter-widgets/base",
            "top": null,
            "grid_column": null,
            "overflow_y": null,
            "overflow_x": null,
            "grid_auto_flow": null,
            "grid_area": null,
            "grid_template_columns": null,
            "flex": null,
            "_model_name": "LayoutModel",
            "justify_items": null,
            "grid_row": null,
            "max_height": null,
            "align_content": null,
            "visibility": null,
            "align_self": null,
            "height": null,
            "min_height": null,
            "padding": null,
            "grid_auto_rows": null,
            "grid_gap": null,
            "max_width": null,
            "order": null,
            "_view_module_version": "1.2.0",
            "grid_template_areas": null,
            "object_position": null,
            "object_fit": null,
            "grid_auto_columns": null,
            "margin": null,
            "display": null,
            "left": null
          }
        },
        "5a3b91f32c464509a6a1ddaf0e8a0aaf": {
          "model_module": "@jupyter-widgets/controls",
          "model_name": "HBoxModel",
          "state": {
            "_view_name": "HBoxView",
            "_dom_classes": [],
            "_model_name": "HBoxModel",
            "_view_module": "@jupyter-widgets/controls",
            "_model_module_version": "1.5.0",
            "_view_count": null,
            "_view_module_version": "1.5.0",
            "box_style": "",
            "layout": "IPY_MODEL_5dd1fcfc0cce41aa964a0da18f947065",
            "_model_module": "@jupyter-widgets/controls",
            "children": [
              "IPY_MODEL_38769a49ed274382ba21959624ed10ea",
              "IPY_MODEL_87fbb01d5dbd48ab881046757bc4d824"
            ]
          }
        },
        "5dd1fcfc0cce41aa964a0da18f947065": {
          "model_module": "@jupyter-widgets/base",
          "model_name": "LayoutModel",
          "state": {
            "_view_name": "LayoutView",
            "grid_template_rows": null,
            "right": null,
            "justify_content": null,
            "_view_module": "@jupyter-widgets/base",
            "overflow": null,
            "_model_module_version": "1.2.0",
            "_view_count": null,
            "flex_flow": null,
            "width": null,
            "min_width": null,
            "border": null,
            "align_items": null,
            "bottom": null,
            "_model_module": "@jupyter-widgets/base",
            "top": null,
            "grid_column": null,
            "overflow_y": null,
            "overflow_x": null,
            "grid_auto_flow": null,
            "grid_area": null,
            "grid_template_columns": null,
            "flex": null,
            "_model_name": "LayoutModel",
            "justify_items": null,
            "grid_row": null,
            "max_height": null,
            "align_content": null,
            "visibility": null,
            "align_self": null,
            "height": null,
            "min_height": null,
            "padding": null,
            "grid_auto_rows": null,
            "grid_gap": null,
            "max_width": null,
            "order": null,
            "_view_module_version": "1.2.0",
            "grid_template_areas": null,
            "object_position": null,
            "object_fit": null,
            "grid_auto_columns": null,
            "margin": null,
            "display": null,
            "left": null
          }
        },
        "38769a49ed274382ba21959624ed10ea": {
          "model_module": "@jupyter-widgets/controls",
          "model_name": "FloatProgressModel",
          "state": {
            "_view_name": "ProgressView",
            "style": "IPY_MODEL_da3e358fb3c046c982f9c678c697cabc",
            "_dom_classes": [],
            "description": "Downloading: 100%",
            "_model_name": "FloatProgressModel",
            "bar_style": "success",
            "max": 213450,
            "_view_module": "@jupyter-widgets/controls",
            "_model_module_version": "1.5.0",
            "value": 213450,
            "_view_count": null,
            "_view_module_version": "1.5.0",
            "orientation": "horizontal",
            "min": 0,
            "description_tooltip": null,
            "_model_module": "@jupyter-widgets/controls",
            "layout": "IPY_MODEL_8bf50038016444b39682f63d60599fdc"
          }
        },
        "87fbb01d5dbd48ab881046757bc4d824": {
          "model_module": "@jupyter-widgets/controls",
          "model_name": "HTMLModel",
          "state": {
            "_view_name": "HTMLView",
            "style": "IPY_MODEL_1dd1026abc3e4e45918bfdc1075eea1b",
            "_dom_classes": [],
            "description": "",
            "_model_name": "HTMLModel",
            "placeholder": "​",
            "_view_module": "@jupyter-widgets/controls",
            "_model_module_version": "1.5.0",
            "value": " 213k/213k [00:00&lt;00:00, 433kB/s]",
            "_view_count": null,
            "_view_module_version": "1.5.0",
            "description_tooltip": null,
            "_model_module": "@jupyter-widgets/controls",
            "layout": "IPY_MODEL_0e3442cc183d445d8ad49cf6b5ba8cc8"
          }
        },
        "da3e358fb3c046c982f9c678c697cabc": {
          "model_module": "@jupyter-widgets/controls",
          "model_name": "ProgressStyleModel",
          "state": {
            "_view_name": "StyleView",
            "_model_name": "ProgressStyleModel",
            "description_width": "initial",
            "_view_module": "@jupyter-widgets/base",
            "_model_module_version": "1.5.0",
            "_view_count": null,
            "_view_module_version": "1.2.0",
            "bar_color": null,
            "_model_module": "@jupyter-widgets/controls"
          }
        },
        "8bf50038016444b39682f63d60599fdc": {
          "model_module": "@jupyter-widgets/base",
          "model_name": "LayoutModel",
          "state": {
            "_view_name": "LayoutView",
            "grid_template_rows": null,
            "right": null,
            "justify_content": null,
            "_view_module": "@jupyter-widgets/base",
            "overflow": null,
            "_model_module_version": "1.2.0",
            "_view_count": null,
            "flex_flow": null,
            "width": null,
            "min_width": null,
            "border": null,
            "align_items": null,
            "bottom": null,
            "_model_module": "@jupyter-widgets/base",
            "top": null,
            "grid_column": null,
            "overflow_y": null,
            "overflow_x": null,
            "grid_auto_flow": null,
            "grid_area": null,
            "grid_template_columns": null,
            "flex": null,
            "_model_name": "LayoutModel",
            "justify_items": null,
            "grid_row": null,
            "max_height": null,
            "align_content": null,
            "visibility": null,
            "align_self": null,
            "height": null,
            "min_height": null,
            "padding": null,
            "grid_auto_rows": null,
            "grid_gap": null,
            "max_width": null,
            "order": null,
            "_view_module_version": "1.2.0",
            "grid_template_areas": null,
            "object_position": null,
            "object_fit": null,
            "grid_auto_columns": null,
            "margin": null,
            "display": null,
            "left": null
          }
        },
        "1dd1026abc3e4e45918bfdc1075eea1b": {
          "model_module": "@jupyter-widgets/controls",
          "model_name": "DescriptionStyleModel",
          "state": {
            "_view_name": "StyleView",
            "_model_name": "DescriptionStyleModel",
            "description_width": "",
            "_view_module": "@jupyter-widgets/base",
            "_model_module_version": "1.5.0",
            "_view_count": null,
            "_view_module_version": "1.2.0",
            "_model_module": "@jupyter-widgets/controls"
          }
        },
        "0e3442cc183d445d8ad49cf6b5ba8cc8": {
          "model_module": "@jupyter-widgets/base",
          "model_name": "LayoutModel",
          "state": {
            "_view_name": "LayoutView",
            "grid_template_rows": null,
            "right": null,
            "justify_content": null,
            "_view_module": "@jupyter-widgets/base",
            "overflow": null,
            "_model_module_version": "1.2.0",
            "_view_count": null,
            "flex_flow": null,
            "width": null,
            "min_width": null,
            "border": null,
            "align_items": null,
            "bottom": null,
            "_model_module": "@jupyter-widgets/base",
            "top": null,
            "grid_column": null,
            "overflow_y": null,
            "overflow_x": null,
            "grid_auto_flow": null,
            "grid_area": null,
            "grid_template_columns": null,
            "flex": null,
            "_model_name": "LayoutModel",
            "justify_items": null,
            "grid_row": null,
            "max_height": null,
            "align_content": null,
            "visibility": null,
            "align_self": null,
            "height": null,
            "min_height": null,
            "padding": null,
            "grid_auto_rows": null,
            "grid_gap": null,
            "max_width": null,
            "order": null,
            "_view_module_version": "1.2.0",
            "grid_template_areas": null,
            "object_position": null,
            "object_fit": null,
            "grid_auto_columns": null,
            "margin": null,
            "display": null,
            "left": null
          }
        },
        "ac1015503e974b65826a04dd5b4c8487": {
          "model_module": "@jupyter-widgets/controls",
          "model_name": "HBoxModel",
          "state": {
            "_view_name": "HBoxView",
            "_dom_classes": [],
            "_model_name": "HBoxModel",
            "_view_module": "@jupyter-widgets/controls",
            "_model_module_version": "1.5.0",
            "_view_count": null,
            "_view_module_version": "1.5.0",
            "box_style": "",
            "layout": "IPY_MODEL_2f07951b8596499896397f640a03da81",
            "_model_module": "@jupyter-widgets/controls",
            "children": [
              "IPY_MODEL_ba7831c612f34ff1b2234227540e9118",
              "IPY_MODEL_8bfe7d8058404ad9ac468335b3cfe882"
            ]
          }
        },
        "2f07951b8596499896397f640a03da81": {
          "model_module": "@jupyter-widgets/base",
          "model_name": "LayoutModel",
          "state": {
            "_view_name": "LayoutView",
            "grid_template_rows": null,
            "right": null,
            "justify_content": null,
            "_view_module": "@jupyter-widgets/base",
            "overflow": null,
            "_model_module_version": "1.2.0",
            "_view_count": null,
            "flex_flow": null,
            "width": null,
            "min_width": null,
            "border": null,
            "align_items": null,
            "bottom": null,
            "_model_module": "@jupyter-widgets/base",
            "top": null,
            "grid_column": null,
            "overflow_y": null,
            "overflow_x": null,
            "grid_auto_flow": null,
            "grid_area": null,
            "grid_template_columns": null,
            "flex": null,
            "_model_name": "LayoutModel",
            "justify_items": null,
            "grid_row": null,
            "max_height": null,
            "align_content": null,
            "visibility": null,
            "align_self": null,
            "height": null,
            "min_height": null,
            "padding": null,
            "grid_auto_rows": null,
            "grid_gap": null,
            "max_width": null,
            "order": null,
            "_view_module_version": "1.2.0",
            "grid_template_areas": null,
            "object_position": null,
            "object_fit": null,
            "grid_auto_columns": null,
            "margin": null,
            "display": null,
            "left": null
          }
        },
        "ba7831c612f34ff1b2234227540e9118": {
          "model_module": "@jupyter-widgets/controls",
          "model_name": "FloatProgressModel",
          "state": {
            "_view_name": "ProgressView",
            "style": "IPY_MODEL_33101ae9d1a74c05b06a861a6144cc6d",
            "_dom_classes": [],
            "description": "Downloading: 100%",
            "_model_name": "FloatProgressModel",
            "bar_style": "success",
            "max": 435797,
            "_view_module": "@jupyter-widgets/controls",
            "_model_module_version": "1.5.0",
            "value": 435797,
            "_view_count": null,
            "_view_module_version": "1.5.0",
            "orientation": "horizontal",
            "min": 0,
            "description_tooltip": null,
            "_model_module": "@jupyter-widgets/controls",
            "layout": "IPY_MODEL_ae42561bc55b4a5eb6442f1bafba12bc"
          }
        },
        "8bfe7d8058404ad9ac468335b3cfe882": {
          "model_module": "@jupyter-widgets/controls",
          "model_name": "HTMLModel",
          "state": {
            "_view_name": "HTMLView",
            "style": "IPY_MODEL_8ade87e0371f4d43a206a6818b0006c6",
            "_dom_classes": [],
            "description": "",
            "_model_name": "HTMLModel",
            "placeholder": "​",
            "_view_module": "@jupyter-widgets/controls",
            "_model_module_version": "1.5.0",
            "value": " 436k/436k [00:00&lt;00:00, 4.46MB/s]",
            "_view_count": null,
            "_view_module_version": "1.5.0",
            "description_tooltip": null,
            "_model_module": "@jupyter-widgets/controls",
            "layout": "IPY_MODEL_b96ecc082f884ba1841d1d4834e26d56"
          }
        },
        "33101ae9d1a74c05b06a861a6144cc6d": {
          "model_module": "@jupyter-widgets/controls",
          "model_name": "ProgressStyleModel",
          "state": {
            "_view_name": "StyleView",
            "_model_name": "ProgressStyleModel",
            "description_width": "initial",
            "_view_module": "@jupyter-widgets/base",
            "_model_module_version": "1.5.0",
            "_view_count": null,
            "_view_module_version": "1.2.0",
            "bar_color": null,
            "_model_module": "@jupyter-widgets/controls"
          }
        },
        "ae42561bc55b4a5eb6442f1bafba12bc": {
          "model_module": "@jupyter-widgets/base",
          "model_name": "LayoutModel",
          "state": {
            "_view_name": "LayoutView",
            "grid_template_rows": null,
            "right": null,
            "justify_content": null,
            "_view_module": "@jupyter-widgets/base",
            "overflow": null,
            "_model_module_version": "1.2.0",
            "_view_count": null,
            "flex_flow": null,
            "width": null,
            "min_width": null,
            "border": null,
            "align_items": null,
            "bottom": null,
            "_model_module": "@jupyter-widgets/base",
            "top": null,
            "grid_column": null,
            "overflow_y": null,
            "overflow_x": null,
            "grid_auto_flow": null,
            "grid_area": null,
            "grid_template_columns": null,
            "flex": null,
            "_model_name": "LayoutModel",
            "justify_items": null,
            "grid_row": null,
            "max_height": null,
            "align_content": null,
            "visibility": null,
            "align_self": null,
            "height": null,
            "min_height": null,
            "padding": null,
            "grid_auto_rows": null,
            "grid_gap": null,
            "max_width": null,
            "order": null,
            "_view_module_version": "1.2.0",
            "grid_template_areas": null,
            "object_position": null,
            "object_fit": null,
            "grid_auto_columns": null,
            "margin": null,
            "display": null,
            "left": null
          }
        },
        "8ade87e0371f4d43a206a6818b0006c6": {
          "model_module": "@jupyter-widgets/controls",
          "model_name": "DescriptionStyleModel",
          "state": {
            "_view_name": "StyleView",
            "_model_name": "DescriptionStyleModel",
            "description_width": "",
            "_view_module": "@jupyter-widgets/base",
            "_model_module_version": "1.5.0",
            "_view_count": null,
            "_view_module_version": "1.2.0",
            "_model_module": "@jupyter-widgets/controls"
          }
        },
        "b96ecc082f884ba1841d1d4834e26d56": {
          "model_module": "@jupyter-widgets/base",
          "model_name": "LayoutModel",
          "state": {
            "_view_name": "LayoutView",
            "grid_template_rows": null,
            "right": null,
            "justify_content": null,
            "_view_module": "@jupyter-widgets/base",
            "overflow": null,
            "_model_module_version": "1.2.0",
            "_view_count": null,
            "flex_flow": null,
            "width": null,
            "min_width": null,
            "border": null,
            "align_items": null,
            "bottom": null,
            "_model_module": "@jupyter-widgets/base",
            "top": null,
            "grid_column": null,
            "overflow_y": null,
            "overflow_x": null,
            "grid_auto_flow": null,
            "grid_area": null,
            "grid_template_columns": null,
            "flex": null,
            "_model_name": "LayoutModel",
            "justify_items": null,
            "grid_row": null,
            "max_height": null,
            "align_content": null,
            "visibility": null,
            "align_self": null,
            "height": null,
            "min_height": null,
            "padding": null,
            "grid_auto_rows": null,
            "grid_gap": null,
            "max_width": null,
            "order": null,
            "_view_module_version": "1.2.0",
            "grid_template_areas": null,
            "object_position": null,
            "object_fit": null,
            "grid_auto_columns": null,
            "margin": null,
            "display": null,
            "left": null
          }
        },
        "1b57a04db6f243ac9c7d7b8f40364d3f": {
          "model_module": "@jupyter-widgets/controls",
          "model_name": "HBoxModel",
          "state": {
            "_view_name": "HBoxView",
            "_dom_classes": [],
            "_model_name": "HBoxModel",
            "_view_module": "@jupyter-widgets/controls",
            "_model_module_version": "1.5.0",
            "_view_count": null,
            "_view_module_version": "1.5.0",
            "box_style": "",
            "layout": "IPY_MODEL_11337953e1c14f6bbcbdf8038e7ceafd",
            "_model_module": "@jupyter-widgets/controls",
            "children": [
              "IPY_MODEL_a569ca06d84c43bea16496d2968db755",
              "IPY_MODEL_7606425e0ccd4cca8d08e40141a1b6c5"
            ]
          }
        },
        "11337953e1c14f6bbcbdf8038e7ceafd": {
          "model_module": "@jupyter-widgets/base",
          "model_name": "LayoutModel",
          "state": {
            "_view_name": "LayoutView",
            "grid_template_rows": null,
            "right": null,
            "justify_content": null,
            "_view_module": "@jupyter-widgets/base",
            "overflow": null,
            "_model_module_version": "1.2.0",
            "_view_count": null,
            "flex_flow": null,
            "width": null,
            "min_width": null,
            "border": null,
            "align_items": null,
            "bottom": null,
            "_model_module": "@jupyter-widgets/base",
            "top": null,
            "grid_column": null,
            "overflow_y": null,
            "overflow_x": null,
            "grid_auto_flow": null,
            "grid_area": null,
            "grid_template_columns": null,
            "flex": null,
            "_model_name": "LayoutModel",
            "justify_items": null,
            "grid_row": null,
            "max_height": null,
            "align_content": null,
            "visibility": null,
            "align_self": null,
            "height": null,
            "min_height": null,
            "padding": null,
            "grid_auto_rows": null,
            "grid_gap": null,
            "max_width": null,
            "order": null,
            "_view_module_version": "1.2.0",
            "grid_template_areas": null,
            "object_position": null,
            "object_fit": null,
            "grid_auto_columns": null,
            "margin": null,
            "display": null,
            "left": null
          }
        },
        "a569ca06d84c43bea16496d2968db755": {
          "model_module": "@jupyter-widgets/controls",
          "model_name": "FloatProgressModel",
          "state": {
            "_view_name": "ProgressView",
            "style": "IPY_MODEL_a645b7ff63bf433b80ce2d68553298a1",
            "_dom_classes": [],
            "description": "Downloading: 100%",
            "_model_name": "FloatProgressModel",
            "bar_style": "success",
            "max": 526681800,
            "_view_module": "@jupyter-widgets/controls",
            "_model_module_version": "1.5.0",
            "value": 526681800,
            "_view_count": null,
            "_view_module_version": "1.5.0",
            "orientation": "horizontal",
            "min": 0,
            "description_tooltip": null,
            "_model_module": "@jupyter-widgets/controls",
            "layout": "IPY_MODEL_c54f0388ca8a45f98e66c3a49aab1266"
          }
        },
        "7606425e0ccd4cca8d08e40141a1b6c5": {
          "model_module": "@jupyter-widgets/controls",
          "model_name": "HTMLModel",
          "state": {
            "_view_name": "HTMLView",
            "style": "IPY_MODEL_b2b996ebf39f4b50a9d3ce3b5039562e",
            "_dom_classes": [],
            "description": "",
            "_model_name": "HTMLModel",
            "placeholder": "​",
            "_view_module": "@jupyter-widgets/controls",
            "_model_module_version": "1.5.0",
            "value": " 527M/527M [00:07&lt;00:00, 71.6MB/s]",
            "_view_count": null,
            "_view_module_version": "1.5.0",
            "description_tooltip": null,
            "_model_module": "@jupyter-widgets/controls",
            "layout": "IPY_MODEL_5344b2c9210447fb99adc8370d771742"
          }
        },
        "a645b7ff63bf433b80ce2d68553298a1": {
          "model_module": "@jupyter-widgets/controls",
          "model_name": "ProgressStyleModel",
          "state": {
            "_view_name": "StyleView",
            "_model_name": "ProgressStyleModel",
            "description_width": "initial",
            "_view_module": "@jupyter-widgets/base",
            "_model_module_version": "1.5.0",
            "_view_count": null,
            "_view_module_version": "1.2.0",
            "bar_color": null,
            "_model_module": "@jupyter-widgets/controls"
          }
        },
        "c54f0388ca8a45f98e66c3a49aab1266": {
          "model_module": "@jupyter-widgets/base",
          "model_name": "LayoutModel",
          "state": {
            "_view_name": "LayoutView",
            "grid_template_rows": null,
            "right": null,
            "justify_content": null,
            "_view_module": "@jupyter-widgets/base",
            "overflow": null,
            "_model_module_version": "1.2.0",
            "_view_count": null,
            "flex_flow": null,
            "width": null,
            "min_width": null,
            "border": null,
            "align_items": null,
            "bottom": null,
            "_model_module": "@jupyter-widgets/base",
            "top": null,
            "grid_column": null,
            "overflow_y": null,
            "overflow_x": null,
            "grid_auto_flow": null,
            "grid_area": null,
            "grid_template_columns": null,
            "flex": null,
            "_model_name": "LayoutModel",
            "justify_items": null,
            "grid_row": null,
            "max_height": null,
            "align_content": null,
            "visibility": null,
            "align_self": null,
            "height": null,
            "min_height": null,
            "padding": null,
            "grid_auto_rows": null,
            "grid_gap": null,
            "max_width": null,
            "order": null,
            "_view_module_version": "1.2.0",
            "grid_template_areas": null,
            "object_position": null,
            "object_fit": null,
            "grid_auto_columns": null,
            "margin": null,
            "display": null,
            "left": null
          }
        },
        "b2b996ebf39f4b50a9d3ce3b5039562e": {
          "model_module": "@jupyter-widgets/controls",
          "model_name": "DescriptionStyleModel",
          "state": {
            "_view_name": "StyleView",
            "_model_name": "DescriptionStyleModel",
            "description_width": "",
            "_view_module": "@jupyter-widgets/base",
            "_model_module_version": "1.5.0",
            "_view_count": null,
            "_view_module_version": "1.2.0",
            "_model_module": "@jupyter-widgets/controls"
          }
        },
        "5344b2c9210447fb99adc8370d771742": {
          "model_module": "@jupyter-widgets/base",
          "model_name": "LayoutModel",
          "state": {
            "_view_name": "LayoutView",
            "grid_template_rows": null,
            "right": null,
            "justify_content": null,
            "_view_module": "@jupyter-widgets/base",
            "overflow": null,
            "_model_module_version": "1.2.0",
            "_view_count": null,
            "flex_flow": null,
            "width": null,
            "min_width": null,
            "border": null,
            "align_items": null,
            "bottom": null,
            "_model_module": "@jupyter-widgets/base",
            "top": null,
            "grid_column": null,
            "overflow_y": null,
            "overflow_x": null,
            "grid_auto_flow": null,
            "grid_area": null,
            "grid_template_columns": null,
            "flex": null,
            "_model_name": "LayoutModel",
            "justify_items": null,
            "grid_row": null,
            "max_height": null,
            "align_content": null,
            "visibility": null,
            "align_self": null,
            "height": null,
            "min_height": null,
            "padding": null,
            "grid_auto_rows": null,
            "grid_gap": null,
            "max_width": null,
            "order": null,
            "_view_module_version": "1.2.0",
            "grid_template_areas": null,
            "object_position": null,
            "object_fit": null,
            "grid_auto_columns": null,
            "margin": null,
            "display": null,
            "left": null
          }
        }
      }
    }
  },
  "cells": [
    {
      "cell_type": "code",
      "metadata": {
        "colab": {
          "base_uri": "https://localhost:8080/"
        },
        "id": "1OO2HRXgV5HA",
        "outputId": "b83bace2-f647-42cd-c548-21aabe1cdf95"
      },
      "source": [
        "!pip install transformers"
      ],
      "execution_count": null,
      "outputs": [
        {
          "output_type": "stream",
          "text": [
            "Collecting transformers\n",
            "\u001b[?25l  Downloading https://files.pythonhosted.org/packages/88/b1/41130a228dd656a1a31ba281598a968320283f48d42782845f6ba567f00b/transformers-4.2.2-py3-none-any.whl (1.8MB)\n",
            "\r\u001b[K     |▏                               | 10kB 21.4MB/s eta 0:00:01\r\u001b[K     |▍                               | 20kB 28.6MB/s eta 0:00:01\r\u001b[K     |▋                               | 30kB 21.1MB/s eta 0:00:01\r\u001b[K     |▊                               | 40kB 19.8MB/s eta 0:00:01\r\u001b[K     |█                               | 51kB 20.9MB/s eta 0:00:01\r\u001b[K     |█▏                              | 61kB 15.7MB/s eta 0:00:01\r\u001b[K     |█▎                              | 71kB 16.2MB/s eta 0:00:01\r\u001b[K     |█▌                              | 81kB 16.9MB/s eta 0:00:01\r\u001b[K     |█▊                              | 92kB 15.0MB/s eta 0:00:01\r\u001b[K     |█▉                              | 102kB 16.1MB/s eta 0:00:01\r\u001b[K     |██                              | 112kB 16.1MB/s eta 0:00:01\r\u001b[K     |██▎                             | 122kB 16.1MB/s eta 0:00:01\r\u001b[K     |██▍                             | 133kB 16.1MB/s eta 0:00:01\r\u001b[K     |██▋                             | 143kB 16.1MB/s eta 0:00:01\r\u001b[K     |██▉                             | 153kB 16.1MB/s eta 0:00:01\r\u001b[K     |███                             | 163kB 16.1MB/s eta 0:00:01\r\u001b[K     |███▏                            | 174kB 16.1MB/s eta 0:00:01\r\u001b[K     |███▍                            | 184kB 16.1MB/s eta 0:00:01\r\u001b[K     |███▌                            | 194kB 16.1MB/s eta 0:00:01\r\u001b[K     |███▊                            | 204kB 16.1MB/s eta 0:00:01\r\u001b[K     |████                            | 215kB 16.1MB/s eta 0:00:01\r\u001b[K     |████                            | 225kB 16.1MB/s eta 0:00:01\r\u001b[K     |████▎                           | 235kB 16.1MB/s eta 0:00:01\r\u001b[K     |████▌                           | 245kB 16.1MB/s eta 0:00:01\r\u001b[K     |████▋                           | 256kB 16.1MB/s eta 0:00:01\r\u001b[K     |████▉                           | 266kB 16.1MB/s eta 0:00:01\r\u001b[K     |█████                           | 276kB 16.1MB/s eta 0:00:01\r\u001b[K     |█████▏                          | 286kB 16.1MB/s eta 0:00:01\r\u001b[K     |█████▍                          | 296kB 16.1MB/s eta 0:00:01\r\u001b[K     |█████▋                          | 307kB 16.1MB/s eta 0:00:01\r\u001b[K     |█████▊                          | 317kB 16.1MB/s eta 0:00:01\r\u001b[K     |██████                          | 327kB 16.1MB/s eta 0:00:01\r\u001b[K     |██████▏                         | 337kB 16.1MB/s eta 0:00:01\r\u001b[K     |██████▎                         | 348kB 16.1MB/s eta 0:00:01\r\u001b[K     |██████▌                         | 358kB 16.1MB/s eta 0:00:01\r\u001b[K     |██████▊                         | 368kB 16.1MB/s eta 0:00:01\r\u001b[K     |██████▉                         | 378kB 16.1MB/s eta 0:00:01\r\u001b[K     |███████                         | 389kB 16.1MB/s eta 0:00:01\r\u001b[K     |███████▎                        | 399kB 16.1MB/s eta 0:00:01\r\u001b[K     |███████▍                        | 409kB 16.1MB/s eta 0:00:01\r\u001b[K     |███████▋                        | 419kB 16.1MB/s eta 0:00:01\r\u001b[K     |███████▉                        | 430kB 16.1MB/s eta 0:00:01\r\u001b[K     |████████                        | 440kB 16.1MB/s eta 0:00:01\r\u001b[K     |████████▏                       | 450kB 16.1MB/s eta 0:00:01\r\u001b[K     |████████▍                       | 460kB 16.1MB/s eta 0:00:01\r\u001b[K     |████████▌                       | 471kB 16.1MB/s eta 0:00:01\r\u001b[K     |████████▊                       | 481kB 16.1MB/s eta 0:00:01\r\u001b[K     |█████████                       | 491kB 16.1MB/s eta 0:00:01\r\u001b[K     |█████████                       | 501kB 16.1MB/s eta 0:00:01\r\u001b[K     |█████████▎                      | 512kB 16.1MB/s eta 0:00:01\r\u001b[K     |█████████▌                      | 522kB 16.1MB/s eta 0:00:01\r\u001b[K     |█████████▋                      | 532kB 16.1MB/s eta 0:00:01\r\u001b[K     |█████████▉                      | 542kB 16.1MB/s eta 0:00:01\r\u001b[K     |██████████                      | 552kB 16.1MB/s eta 0:00:01\r\u001b[K     |██████████▏                     | 563kB 16.1MB/s eta 0:00:01\r\u001b[K     |██████████▍                     | 573kB 16.1MB/s eta 0:00:01\r\u001b[K     |██████████▋                     | 583kB 16.1MB/s eta 0:00:01\r\u001b[K     |██████████▊                     | 593kB 16.1MB/s eta 0:00:01\r\u001b[K     |███████████                     | 604kB 16.1MB/s eta 0:00:01\r\u001b[K     |███████████▏                    | 614kB 16.1MB/s eta 0:00:01\r\u001b[K     |███████████▎                    | 624kB 16.1MB/s eta 0:00:01\r\u001b[K     |███████████▌                    | 634kB 16.1MB/s eta 0:00:01\r\u001b[K     |███████████▊                    | 645kB 16.1MB/s eta 0:00:01\r\u001b[K     |███████████▉                    | 655kB 16.1MB/s eta 0:00:01\r\u001b[K     |████████████                    | 665kB 16.1MB/s eta 0:00:01\r\u001b[K     |████████████▎                   | 675kB 16.1MB/s eta 0:00:01\r\u001b[K     |████████████▍                   | 686kB 16.1MB/s eta 0:00:01\r\u001b[K     |████████████▋                   | 696kB 16.1MB/s eta 0:00:01\r\u001b[K     |████████████▉                   | 706kB 16.1MB/s eta 0:00:01\r\u001b[K     |█████████████                   | 716kB 16.1MB/s eta 0:00:01\r\u001b[K     |█████████████▏                  | 727kB 16.1MB/s eta 0:00:01\r\u001b[K     |█████████████▍                  | 737kB 16.1MB/s eta 0:00:01\r\u001b[K     |█████████████▌                  | 747kB 16.1MB/s eta 0:00:01\r\u001b[K     |█████████████▊                  | 757kB 16.1MB/s eta 0:00:01\r\u001b[K     |██████████████                  | 768kB 16.1MB/s eta 0:00:01\r\u001b[K     |██████████████                  | 778kB 16.1MB/s eta 0:00:01\r\u001b[K     |██████████████▎                 | 788kB 16.1MB/s eta 0:00:01\r\u001b[K     |██████████████▌                 | 798kB 16.1MB/s eta 0:00:01\r\u001b[K     |██████████████▋                 | 808kB 16.1MB/s eta 0:00:01\r\u001b[K     |██████████████▉                 | 819kB 16.1MB/s eta 0:00:01\r\u001b[K     |███████████████                 | 829kB 16.1MB/s eta 0:00:01\r\u001b[K     |███████████████▏                | 839kB 16.1MB/s eta 0:00:01\r\u001b[K     |███████████████▍                | 849kB 16.1MB/s eta 0:00:01\r\u001b[K     |███████████████▋                | 860kB 16.1MB/s eta 0:00:01\r\u001b[K     |███████████████▊                | 870kB 16.1MB/s eta 0:00:01\r\u001b[K     |████████████████                | 880kB 16.1MB/s eta 0:00:01\r\u001b[K     |████████████████▏               | 890kB 16.1MB/s eta 0:00:01\r\u001b[K     |████████████████▎               | 901kB 16.1MB/s eta 0:00:01\r\u001b[K     |████████████████▌               | 911kB 16.1MB/s eta 0:00:01\r\u001b[K     |████████████████▊               | 921kB 16.1MB/s eta 0:00:01\r\u001b[K     |████████████████▉               | 931kB 16.1MB/s eta 0:00:01\r\u001b[K     |█████████████████               | 942kB 16.1MB/s eta 0:00:01\r\u001b[K     |█████████████████▎              | 952kB 16.1MB/s eta 0:00:01\r\u001b[K     |█████████████████▍              | 962kB 16.1MB/s eta 0:00:01\r\u001b[K     |█████████████████▋              | 972kB 16.1MB/s eta 0:00:01\r\u001b[K     |█████████████████▉              | 983kB 16.1MB/s eta 0:00:01\r\u001b[K     |██████████████████              | 993kB 16.1MB/s eta 0:00:01\r\u001b[K     |██████████████████▏             | 1.0MB 16.1MB/s eta 0:00:01\r\u001b[K     |██████████████████▍             | 1.0MB 16.1MB/s eta 0:00:01\r\u001b[K     |██████████████████▌             | 1.0MB 16.1MB/s eta 0:00:01\r\u001b[K     |██████████████████▊             | 1.0MB 16.1MB/s eta 0:00:01\r\u001b[K     |███████████████████             | 1.0MB 16.1MB/s eta 0:00:01\r\u001b[K     |███████████████████             | 1.1MB 16.1MB/s eta 0:00:01\r\u001b[K     |███████████████████▎            | 1.1MB 16.1MB/s eta 0:00:01\r\u001b[K     |███████████████████▌            | 1.1MB 16.1MB/s eta 0:00:01\r\u001b[K     |███████████████████▋            | 1.1MB 16.1MB/s eta 0:00:01\r\u001b[K     |███████████████████▉            | 1.1MB 16.1MB/s eta 0:00:01\r\u001b[K     |████████████████████            | 1.1MB 16.1MB/s eta 0:00:01\r\u001b[K     |████████████████████▏           | 1.1MB 16.1MB/s eta 0:00:01\r\u001b[K     |████████████████████▍           | 1.1MB 16.1MB/s eta 0:00:01\r\u001b[K     |████████████████████▋           | 1.1MB 16.1MB/s eta 0:00:01\r\u001b[K     |████████████████████▊           | 1.1MB 16.1MB/s eta 0:00:01\r\u001b[K     |█████████████████████           | 1.2MB 16.1MB/s eta 0:00:01\r\u001b[K     |█████████████████████▏          | 1.2MB 16.1MB/s eta 0:00:01\r\u001b[K     |█████████████████████▎          | 1.2MB 16.1MB/s eta 0:00:01\r\u001b[K     |█████████████████████▌          | 1.2MB 16.1MB/s eta 0:00:01\r\u001b[K     |█████████████████████▊          | 1.2MB 16.1MB/s eta 0:00:01\r\u001b[K     |█████████████████████▉          | 1.2MB 16.1MB/s eta 0:00:01\r\u001b[K     |██████████████████████          | 1.2MB 16.1MB/s eta 0:00:01\r\u001b[K     |██████████████████████▎         | 1.2MB 16.1MB/s eta 0:00:01\r\u001b[K     |██████████████████████▍         | 1.2MB 16.1MB/s eta 0:00:01\r\u001b[K     |██████████████████████▋         | 1.2MB 16.1MB/s eta 0:00:01\r\u001b[K     |██████████████████████▉         | 1.3MB 16.1MB/s eta 0:00:01\r\u001b[K     |███████████████████████         | 1.3MB 16.1MB/s eta 0:00:01\r\u001b[K     |███████████████████████▏        | 1.3MB 16.1MB/s eta 0:00:01\r\u001b[K     |███████████████████████▍        | 1.3MB 16.1MB/s eta 0:00:01\r\u001b[K     |███████████████████████▌        | 1.3MB 16.1MB/s eta 0:00:01\r\u001b[K     |███████████████████████▊        | 1.3MB 16.1MB/s eta 0:00:01\r\u001b[K     |████████████████████████        | 1.3MB 16.1MB/s eta 0:00:01\r\u001b[K     |████████████████████████        | 1.3MB 16.1MB/s eta 0:00:01\r\u001b[K     |████████████████████████▎       | 1.3MB 16.1MB/s eta 0:00:01\r\u001b[K     |████████████████████████▌       | 1.4MB 16.1MB/s eta 0:00:01\r\u001b[K     |████████████████████████▊       | 1.4MB 16.1MB/s eta 0:00:01\r\u001b[K     |████████████████████████▉       | 1.4MB 16.1MB/s eta 0:00:01\r\u001b[K     |█████████████████████████       | 1.4MB 16.1MB/s eta 0:00:01\r\u001b[K     |█████████████████████████▎      | 1.4MB 16.1MB/s eta 0:00:01\r\u001b[K     |█████████████████████████▍      | 1.4MB 16.1MB/s eta 0:00:01\r\u001b[K     |█████████████████████████▋      | 1.4MB 16.1MB/s eta 0:00:01\r\u001b[K     |█████████████████████████▉      | 1.4MB 16.1MB/s eta 0:00:01\r\u001b[K     |██████████████████████████      | 1.4MB 16.1MB/s eta 0:00:01\r\u001b[K     |██████████████████████████▏     | 1.4MB 16.1MB/s eta 0:00:01\r\u001b[K     |██████████████████████████▍     | 1.5MB 16.1MB/s eta 0:00:01\r\u001b[K     |██████████████████████████▌     | 1.5MB 16.1MB/s eta 0:00:01\r\u001b[K     |██████████████████████████▊     | 1.5MB 16.1MB/s eta 0:00:01\r\u001b[K     |███████████████████████████     | 1.5MB 16.1MB/s eta 0:00:01\r\u001b[K     |███████████████████████████     | 1.5MB 16.1MB/s eta 0:00:01\r\u001b[K     |███████████████████████████▎    | 1.5MB 16.1MB/s eta 0:00:01\r\u001b[K     |███████████████████████████▌    | 1.5MB 16.1MB/s eta 0:00:01\r\u001b[K     |███████████████████████████▋    | 1.5MB 16.1MB/s eta 0:00:01\r\u001b[K     |███████████████████████████▉    | 1.5MB 16.1MB/s eta 0:00:01\r\u001b[K     |████████████████████████████    | 1.5MB 16.1MB/s eta 0:00:01\r\u001b[K     |████████████████████████████▏   | 1.6MB 16.1MB/s eta 0:00:01\r\u001b[K     |████████████████████████████▍   | 1.6MB 16.1MB/s eta 0:00:01\r\u001b[K     |████████████████████████████▋   | 1.6MB 16.1MB/s eta 0:00:01\r\u001b[K     |████████████████████████████▊   | 1.6MB 16.1MB/s eta 0:00:01\r\u001b[K     |█████████████████████████████   | 1.6MB 16.1MB/s eta 0:00:01\r\u001b[K     |█████████████████████████████▏  | 1.6MB 16.1MB/s eta 0:00:01\r\u001b[K     |█████████████████████████████▎  | 1.6MB 16.1MB/s eta 0:00:01\r\u001b[K     |█████████████████████████████▌  | 1.6MB 16.1MB/s eta 0:00:01\r\u001b[K     |█████████████████████████████▊  | 1.6MB 16.1MB/s eta 0:00:01\r\u001b[K     |█████████████████████████████▉  | 1.6MB 16.1MB/s eta 0:00:01\r\u001b[K     |██████████████████████████████  | 1.7MB 16.1MB/s eta 0:00:01\r\u001b[K     |██████████████████████████████▎ | 1.7MB 16.1MB/s eta 0:00:01\r\u001b[K     |██████████████████████████████▍ | 1.7MB 16.1MB/s eta 0:00:01\r\u001b[K     |██████████████████████████████▋ | 1.7MB 16.1MB/s eta 0:00:01\r\u001b[K     |██████████████████████████████▉ | 1.7MB 16.1MB/s eta 0:00:01\r\u001b[K     |███████████████████████████████ | 1.7MB 16.1MB/s eta 0:00:01\r\u001b[K     |███████████████████████████████▏| 1.7MB 16.1MB/s eta 0:00:01\r\u001b[K     |███████████████████████████████▍| 1.7MB 16.1MB/s eta 0:00:01\r\u001b[K     |███████████████████████████████▌| 1.7MB 16.1MB/s eta 0:00:01\r\u001b[K     |███████████████████████████████▊| 1.8MB 16.1MB/s eta 0:00:01\r\u001b[K     |████████████████████████████████| 1.8MB 16.1MB/s eta 0:00:01\r\u001b[K     |████████████████████████████████| 1.8MB 16.1MB/s \n",
            "\u001b[?25hRequirement already satisfied: filelock in /usr/local/lib/python3.6/dist-packages (from transformers) (3.0.12)\n",
            "Requirement already satisfied: importlib-metadata; python_version < \"3.8\" in /usr/local/lib/python3.6/dist-packages (from transformers) (3.4.0)\n",
            "Requirement already satisfied: regex!=2019.12.17 in /usr/local/lib/python3.6/dist-packages (from transformers) (2019.12.20)\n",
            "Requirement already satisfied: dataclasses; python_version < \"3.7\" in /usr/local/lib/python3.6/dist-packages (from transformers) (0.8)\n",
            "Requirement already satisfied: numpy in /usr/local/lib/python3.6/dist-packages (from transformers) (1.19.5)\n",
            "Collecting tokenizers==0.9.4\n",
            "\u001b[?25l  Downloading https://files.pythonhosted.org/packages/0f/1c/e789a8b12e28be5bc1ce2156cf87cb522b379be9cadc7ad8091a4cc107c4/tokenizers-0.9.4-cp36-cp36m-manylinux2010_x86_64.whl (2.9MB)\n",
            "\u001b[K     |████████████████████████████████| 2.9MB 55.0MB/s \n",
            "\u001b[?25hCollecting sacremoses\n",
            "\u001b[?25l  Downloading https://files.pythonhosted.org/packages/7d/34/09d19aff26edcc8eb2a01bed8e98f13a1537005d31e95233fd48216eed10/sacremoses-0.0.43.tar.gz (883kB)\n",
            "\u001b[K     |████████████████████████████████| 890kB 51.0MB/s \n",
            "\u001b[?25hRequirement already satisfied: packaging in /usr/local/lib/python3.6/dist-packages (from transformers) (20.8)\n",
            "Requirement already satisfied: requests in /usr/local/lib/python3.6/dist-packages (from transformers) (2.23.0)\n",
            "Requirement already satisfied: tqdm>=4.27 in /usr/local/lib/python3.6/dist-packages (from transformers) (4.41.1)\n",
            "Requirement already satisfied: typing-extensions>=3.6.4; python_version < \"3.8\" in /usr/local/lib/python3.6/dist-packages (from importlib-metadata; python_version < \"3.8\"->transformers) (3.7.4.3)\n",
            "Requirement already satisfied: zipp>=0.5 in /usr/local/lib/python3.6/dist-packages (from importlib-metadata; python_version < \"3.8\"->transformers) (3.4.0)\n",
            "Requirement already satisfied: six in /usr/local/lib/python3.6/dist-packages (from sacremoses->transformers) (1.15.0)\n",
            "Requirement already satisfied: click in /usr/local/lib/python3.6/dist-packages (from sacremoses->transformers) (7.1.2)\n",
            "Requirement already satisfied: joblib in /usr/local/lib/python3.6/dist-packages (from sacremoses->transformers) (1.0.0)\n",
            "Requirement already satisfied: pyparsing>=2.0.2 in /usr/local/lib/python3.6/dist-packages (from packaging->transformers) (2.4.7)\n",
            "Requirement already satisfied: chardet<4,>=3.0.2 in /usr/local/lib/python3.6/dist-packages (from requests->transformers) (3.0.4)\n",
            "Requirement already satisfied: idna<3,>=2.5 in /usr/local/lib/python3.6/dist-packages (from requests->transformers) (2.10)\n",
            "Requirement already satisfied: certifi>=2017.4.17 in /usr/local/lib/python3.6/dist-packages (from requests->transformers) (2020.12.5)\n",
            "Requirement already satisfied: urllib3!=1.25.0,!=1.25.1,<1.26,>=1.21.1 in /usr/local/lib/python3.6/dist-packages (from requests->transformers) (1.24.3)\n",
            "Building wheels for collected packages: sacremoses\n",
            "  Building wheel for sacremoses (setup.py) ... \u001b[?25l\u001b[?25hdone\n",
            "  Created wheel for sacremoses: filename=sacremoses-0.0.43-cp36-none-any.whl size=893261 sha256=e2cfedda30dcdd6af7d0672bfb5c0f9e250c41c0d1f5da66110bea2448ae930f\n",
            "  Stored in directory: /root/.cache/pip/wheels/29/3c/fd/7ce5c3f0666dab31a50123635e6fb5e19ceb42ce38d4e58f45\n",
            "Successfully built sacremoses\n",
            "Installing collected packages: tokenizers, sacremoses, transformers\n",
            "Successfully installed sacremoses-0.0.43 tokenizers-0.9.4 transformers-4.2.2\n"
          ],
          "name": "stdout"
        }
      ]
    },
    {
      "cell_type": "code",
      "metadata": {
        "id": "QqYLzmWhVT84"
      },
      "source": [
        "import json\n",
        "import os\n",
        "\n",
        "class RawData(object):\n",
        "    def __init__(self, id, intent, positions, slots, text):\n",
        "        self.id = id\n",
        "        self.intent = intent\n",
        "        self.positions = positions\n",
        "        self.slots = slots\n",
        "        self.text = text\n",
        "\n",
        "    def __repr__(self):\n",
        "        return str(json.dumps(self.__dict__, indent=2))\n",
        "\n",
        "\n",
        "\"\"\"\n",
        "reads json from data file\n",
        "returns a list containing DataInstance objects\n",
        "\"\"\"\n",
        "\n",
        "\n",
        "def read_train_json_file(filename):\n",
        "    if os.path.exists(filename):\n",
        "        intents = []\n",
        "\n",
        "        with open(filename, \"r\", encoding=\"utf-8\") as json_file:\n",
        "            data = json.load(json_file)\n",
        "\n",
        "            for k in data.keys():\n",
        "                intent = data[k][\"intent\"]\n",
        "                positions = data[k][\"positions\"]\n",
        "                slots = data[k][\"slots\"]\n",
        "                text = data[k][\"text\"]\n",
        "\n",
        "                temp = RawData(k, intent, positions, slots, text)\n",
        "                intents.append(temp)\n",
        "\n",
        "        return intents\n",
        "    else:\n",
        "        raise FileNotFoundError(\"No file found with that path!\")\n",
        "\n",
        "# read from json file\n",
        "train_data = read_train_json_file(\"train.json\")"
      ],
      "execution_count": null,
      "outputs": []
    },
    {
      "cell_type": "code",
      "metadata": {
        "pycharm": {
          "name": "#%%\n"
        },
        "colab": {
          "base_uri": "https://localhost:8080/"
        },
        "id": "hgnD-4G3VT84",
        "outputId": "b7eca323-6e2f-417f-ad00-79b8b0c6c05a"
      },
      "source": [
        "example = train_data[0]\n",
        "example"
      ],
      "execution_count": null,
      "outputs": [
        {
          "output_type": "execute_result",
          "data": {
            "text/plain": [
              "{\n",
              "  \"id\": \"0\",\n",
              "  \"intent\": \"AddToPlaylist\",\n",
              "  \"positions\": {\n",
              "    \"music_item\": [\n",
              "      6,\n",
              "      9\n",
              "    ],\n",
              "    \"playlist_owner\": [\n",
              "      14,\n",
              "      15\n",
              "    ],\n",
              "    \"playlist\": [\n",
              "      17,\n",
              "      32\n",
              "    ]\n",
              "  },\n",
              "  \"slots\": {\n",
              "    \"music_item\": \"tune\",\n",
              "    \"playlist_owner\": \"my\",\n",
              "    \"playlist\": \"elrow Guest List\"\n",
              "  },\n",
              "  \"text\": \"Add a tune to my elrow Guest List\"\n",
              "}"
            ]
          },
          "metadata": {
            "tags": []
          },
          "execution_count": 3
        }
      ]
    },
    {
      "cell_type": "code",
      "metadata": {
        "pycharm": {
          "name": "#%%\n"
        },
        "id": "e9KhBShRVT84"
      },
      "source": [
        "# encode this example\n",
        "\n",
        "text = example.text\n",
        "slots = example.slots\n",
        "intent = example.intent"
      ],
      "execution_count": null,
      "outputs": []
    },
    {
      "cell_type": "code",
      "metadata": {
        "id": "0xWxMHZaVT84"
      },
      "source": [
        "import numpy as np\n",
        "\n",
        "# encode text\n",
        "max_len = 45\n",
        "\n"
      ],
      "execution_count": null,
      "outputs": []
    },
    {
      "cell_type": "code",
      "metadata": {
        "id": "qA8sh4pLVT84",
        "colab": {
          "base_uri": "https://localhost:8080/",
          "height": 165,
          "referenced_widgets": [
            "722ead4fc16a43fea0d1812e245b9c34",
            "463e2caa5bbd4f46b0bd47223c2f5a60",
            "96e22e70086c46429b19276cad25aa68",
            "a0c1f0540397497da9605b43928b6ff7",
            "cd192906e7e54ff298dabb72dd3415a0",
            "6713d202d10a4091be4da47a9b2557c7",
            "596fe66cd9704448a600587b59459fd7",
            "eaa5825b6bd245eb81dc69bd6f6638aa",
            "5a3b91f32c464509a6a1ddaf0e8a0aaf",
            "5dd1fcfc0cce41aa964a0da18f947065",
            "38769a49ed274382ba21959624ed10ea",
            "87fbb01d5dbd48ab881046757bc4d824",
            "da3e358fb3c046c982f9c678c697cabc",
            "8bf50038016444b39682f63d60599fdc",
            "1dd1026abc3e4e45918bfdc1075eea1b",
            "0e3442cc183d445d8ad49cf6b5ba8cc8",
            "ac1015503e974b65826a04dd5b4c8487",
            "2f07951b8596499896397f640a03da81",
            "ba7831c612f34ff1b2234227540e9118",
            "8bfe7d8058404ad9ac468335b3cfe882",
            "33101ae9d1a74c05b06a861a6144cc6d",
            "ae42561bc55b4a5eb6442f1bafba12bc",
            "8ade87e0371f4d43a206a6818b0006c6",
            "b96ecc082f884ba1841d1d4834e26d56"
          ]
        },
        "outputId": "28ec1c56-b397-476b-a33a-0029d3473b32"
      },
      "source": [
        "import tensorflow as tf\n",
        "from transformers import AutoModel, AutoTokenizer, BertTokenizer\n",
        "model_name = \"bert-base-cased\"\n",
        "tokenizer = AutoTokenizer.from_pretrained(model_name)"
      ],
      "execution_count": null,
      "outputs": [
        {
          "output_type": "display_data",
          "data": {
            "application/vnd.jupyter.widget-view+json": {
              "model_id": "722ead4fc16a43fea0d1812e245b9c34",
              "version_minor": 0,
              "version_major": 2
            },
            "text/plain": [
              "HBox(children=(FloatProgress(value=0.0, description='Downloading', max=433.0, style=ProgressStyle(description_…"
            ]
          },
          "metadata": {
            "tags": []
          }
        },
        {
          "output_type": "stream",
          "text": [
            "\n"
          ],
          "name": "stdout"
        },
        {
          "output_type": "display_data",
          "data": {
            "application/vnd.jupyter.widget-view+json": {
              "model_id": "5a3b91f32c464509a6a1ddaf0e8a0aaf",
              "version_minor": 0,
              "version_major": 2
            },
            "text/plain": [
              "HBox(children=(FloatProgress(value=0.0, description='Downloading', max=213450.0, style=ProgressStyle(descripti…"
            ]
          },
          "metadata": {
            "tags": []
          }
        },
        {
          "output_type": "stream",
          "text": [
            "\n"
          ],
          "name": "stdout"
        },
        {
          "output_type": "display_data",
          "data": {
            "application/vnd.jupyter.widget-view+json": {
              "model_id": "ac1015503e974b65826a04dd5b4c8487",
              "version_minor": 0,
              "version_major": 2
            },
            "text/plain": [
              "HBox(children=(FloatProgress(value=0.0, description='Downloading', max=435797.0, style=ProgressStyle(descripti…"
            ]
          },
          "metadata": {
            "tags": []
          }
        },
        {
          "output_type": "stream",
          "text": [
            "\n"
          ],
          "name": "stdout"
        }
      ]
    },
    {
      "cell_type": "code",
      "metadata": {
        "colab": {
          "base_uri": "https://localhost:8080/"
        },
        "id": "EmdLs8E7VT84",
        "outputId": "5897feaf-57f3-4baa-c1c6-09138151ba28"
      },
      "source": [
        "td = tokenizer(text)\n",
        "td"
      ],
      "execution_count": null,
      "outputs": [
        {
          "output_type": "execute_result",
          "data": {
            "text/plain": [
              "{'input_ids': [101, 24930, 1181, 170, 9253, 1106, 1139, 8468, 7596, 12044, 5619, 102], 'token_type_ids': [0, 0, 0, 0, 0, 0, 0, 0, 0, 0, 0, 0], 'attention_mask': [1, 1, 1, 1, 1, 1, 1, 1, 1, 1, 1, 1]}"
            ]
          },
          "metadata": {
            "tags": []
          },
          "execution_count": 7
        }
      ]
    },
    {
      "cell_type": "code",
      "metadata": {
        "colab": {
          "base_uri": "https://localhost:8080/",
          "height": 36
        },
        "id": "0iM0UbfGhQ3k",
        "outputId": "c1d4f0d5-8a5f-4e40-aed5-9f0b55987e41"
      },
      "source": [
        "tokenizer.decode(td[\"input_ids\"])"
      ],
      "execution_count": null,
      "outputs": [
        {
          "output_type": "execute_result",
          "data": {
            "application/vnd.google.colaboratory.intrinsic+json": {
              "type": "string"
            },
            "text/plain": [
              "'[CLS] Add a tune to my elrow Guest List [SEP]'"
            ]
          },
          "metadata": {
            "tags": []
          },
          "execution_count": 8
        }
      ]
    },
    {
      "cell_type": "code",
      "metadata": {
        "colab": {
          "base_uri": "https://localhost:8080/"
        },
        "id": "vpUnhqA2VT84",
        "outputId": "8d989bdf-94f2-40ba-92e1-9c979b665668"
      },
      "source": [
        "# https://huggingface.co/transformers/preprocessing.html\n",
        "\n",
        "def encode_texts(tokenizer, texts):\n",
        "    return tokenizer(texts, padding=True, truncation=True, return_tensors=\"tf\")\n",
        "\n",
        "texts = [d.text for d in train_data]\n",
        "tds = encode_texts(tokenizer, texts)\n",
        "tds.keys()"
      ],
      "execution_count": null,
      "outputs": [
        {
          "output_type": "execute_result",
          "data": {
            "text/plain": [
              "dict_keys(['input_ids', 'token_type_ids', 'attention_mask'])"
            ]
          },
          "metadata": {
            "tags": []
          },
          "execution_count": 9
        }
      ]
    },
    {
      "cell_type": "code",
      "metadata": {
        "id": "CjaIbB7vVT84"
      },
      "source": [
        "encoded_texts = tds"
      ],
      "execution_count": null,
      "outputs": []
    },
    {
      "cell_type": "code",
      "metadata": {
        "tags": [],
        "colab": {
          "base_uri": "https://localhost:8080/"
        },
        "id": "P1eTfXPQVT84",
        "outputId": "eb234d9f-49a3-4bf8-b4af-c4d301dc6707"
      },
      "source": [
        "# encode labels\n",
        "intents = [d.intent for d in train_data]\n",
        "unique_intents = list(set(intents))\n",
        "unique_intents"
      ],
      "execution_count": null,
      "outputs": [
        {
          "output_type": "execute_result",
          "data": {
            "text/plain": [
              "['PlayMusic',\n",
              " 'BookRestaurant',\n",
              " 'RateBook',\n",
              " 'GetWeather',\n",
              " 'SearchCreativeWork',\n",
              " 'AddToPlaylist',\n",
              " 'SearchScreeningEvent']"
            ]
          },
          "metadata": {
            "tags": []
          },
          "execution_count": 11
        }
      ]
    },
    {
      "cell_type": "code",
      "metadata": {
        "colab": {
          "base_uri": "https://localhost:8080/"
        },
        "id": "zDCv98XHVT84",
        "outputId": "77a416ff-c280-4073-c93d-2aab67b8d9fa"
      },
      "source": [
        "intent_dict = dict() # index -> intent\n",
        "for idx, ui in enumerate(unique_intents):\n",
        "    intent_dict[ui] = idx\n",
        "intent_dict"
      ],
      "execution_count": null,
      "outputs": [
        {
          "output_type": "execute_result",
          "data": {
            "text/plain": [
              "{'AddToPlaylist': 5,\n",
              " 'BookRestaurant': 1,\n",
              " 'GetWeather': 3,\n",
              " 'PlayMusic': 0,\n",
              " 'RateBook': 2,\n",
              " 'SearchCreativeWork': 4,\n",
              " 'SearchScreeningEvent': 6}"
            ]
          },
          "metadata": {
            "tags": []
          },
          "execution_count": 12
        }
      ]
    },
    {
      "cell_type": "code",
      "metadata": {
        "id": "8-PxXNWcVT84"
      },
      "source": [
        "# map to train_data values\n",
        "def encode_intents(intents, intent_dict):\n",
        "    encoded = []\n",
        "    for i in intents:\n",
        "        encoded.append(intent_dict[i])\n",
        "    # convert to tf tensor\n",
        "    return tf.convert_to_tensor(encoded, dtype=\"int32\")\n",
        "\n",
        "encoded_intents = encode_intents(intents, intent_dict)"
      ],
      "execution_count": null,
      "outputs": []
    },
    {
      "cell_type": "code",
      "metadata": {
        "id": "AbkPuWXqVT84"
      },
      "source": [
        "# test intent classification\n",
        "from transformers import TFBertModel\n",
        "from tensorflow.keras.layers import Dropout, Dense, GlobalAveragePooling1D\n",
        "from tensorflow.keras.optimizers import Adam\n",
        "from tensorflow.keras.losses import SparseCategoricalCrossentropy\n",
        "from tensorflow.keras.metrics import SparseCategoricalAccuracy"
      ],
      "execution_count": null,
      "outputs": []
    },
    {
      "cell_type": "code",
      "metadata": {
        "colab": {
          "base_uri": "https://localhost:8080/"
        },
        "id": "Sv6_zUexVT84",
        "outputId": "8e4dbb2f-3ab9-4bfb-f5e6-f0331deef6a6"
      },
      "source": [
        "tds.keys()"
      ],
      "execution_count": null,
      "outputs": [
        {
          "output_type": "execute_result",
          "data": {
            "text/plain": [
              "dict_keys(['input_ids', 'token_type_ids', 'attention_mask'])"
            ]
          },
          "metadata": {
            "tags": []
          },
          "execution_count": 15
        }
      ]
    },
    {
      "cell_type": "code",
      "metadata": {
        "colab": {
          "base_uri": "https://localhost:8080/"
        },
        "id": "Qs6x7wmDVT84",
        "outputId": "03095759-93e9-4b10-d750-44fe5e857938"
      },
      "source": [
        "import calendar\n",
        "import time\n",
        "\n",
        "def get_time_stamp():\n",
        "    ts = calendar.timegm(time.gmtime())\n",
        "    return ts\n",
        "\n",
        "get_time_stamp()"
      ],
      "execution_count": null,
      "outputs": [
        {
          "output_type": "execute_result",
          "data": {
            "text/plain": [
              "1611906001"
            ]
          },
          "metadata": {
            "tags": []
          },
          "execution_count": 16
        }
      ]
    },
    {
      "cell_type": "code",
      "metadata": {
        "colab": {
          "base_uri": "https://localhost:8080/"
        },
        "id": "aNW91LSgVT84",
        "outputId": "1ef4f214-5500-403f-d6a7-14b66caba430"
      },
      "source": [
        "# encode slots\n",
        "unique_slots = set()\n",
        "for td in train_data:\n",
        "    slots = td.slots\n",
        "    for slot in slots:\n",
        "        unique_slots.add(slot)\n",
        "unique_slots = list(unique_slots)\n",
        "unique_slots.insert(0, \"nil\")\n",
        "unique_slots"
      ],
      "execution_count": null,
      "outputs": [
        {
          "output_type": "execute_result",
          "data": {
            "text/plain": [
              "['nil',\n",
              " 'spatial_relation',\n",
              " 'city',\n",
              " 'location_name',\n",
              " 'timeRange',\n",
              " 'movie_type',\n",
              " 'object_part_of_series_type',\n",
              " 'playlist',\n",
              " 'year',\n",
              " 'poi',\n",
              " 'country',\n",
              " 'geographic_poi',\n",
              " 'current_location',\n",
              " 'artist',\n",
              " 'best_rating',\n",
              " 'party_size_number',\n",
              " 'movie_name',\n",
              " 'served_dish',\n",
              " 'restaurant_name',\n",
              " 'sort',\n",
              " 'rating_unit',\n",
              " 'track',\n",
              " 'condition_description',\n",
              " 'state',\n",
              " 'cuisine',\n",
              " 'object_name',\n",
              " 'party_size_description',\n",
              " 'facility',\n",
              " 'rating_value',\n",
              " 'object_location_type',\n",
              " 'music_item',\n",
              " 'entity_name',\n",
              " 'object_type',\n",
              " 'restaurant_type',\n",
              " 'object_select',\n",
              " 'album',\n",
              " 'playlist_owner',\n",
              " 'genre',\n",
              " 'condition_temperature',\n",
              " 'service']"
            ]
          },
          "metadata": {
            "tags": []
          },
          "execution_count": 17
        }
      ]
    },
    {
      "cell_type": "code",
      "metadata": {
        "colab": {
          "base_uri": "https://localhost:8080/"
        },
        "id": "2Fv7aVEoVT84",
        "outputId": "d2eb0b3e-d2aa-4375-b62d-aaa0bcd13d33"
      },
      "source": [
        "slot_map = dict() # slot -> index\n",
        "for idx, us in enumerate(unique_slots):\n",
        "    slot_map[us] = idx\n",
        "slot_map"
      ],
      "execution_count": null,
      "outputs": [
        {
          "output_type": "execute_result",
          "data": {
            "text/plain": [
              "{'album': 35,\n",
              " 'artist': 13,\n",
              " 'best_rating': 14,\n",
              " 'city': 2,\n",
              " 'condition_description': 22,\n",
              " 'condition_temperature': 38,\n",
              " 'country': 10,\n",
              " 'cuisine': 24,\n",
              " 'current_location': 12,\n",
              " 'entity_name': 31,\n",
              " 'facility': 27,\n",
              " 'genre': 37,\n",
              " 'geographic_poi': 11,\n",
              " 'location_name': 3,\n",
              " 'movie_name': 16,\n",
              " 'movie_type': 5,\n",
              " 'music_item': 30,\n",
              " 'nil': 0,\n",
              " 'object_location_type': 29,\n",
              " 'object_name': 25,\n",
              " 'object_part_of_series_type': 6,\n",
              " 'object_select': 34,\n",
              " 'object_type': 32,\n",
              " 'party_size_description': 26,\n",
              " 'party_size_number': 15,\n",
              " 'playlist': 7,\n",
              " 'playlist_owner': 36,\n",
              " 'poi': 9,\n",
              " 'rating_unit': 20,\n",
              " 'rating_value': 28,\n",
              " 'restaurant_name': 18,\n",
              " 'restaurant_type': 33,\n",
              " 'served_dish': 17,\n",
              " 'service': 39,\n",
              " 'sort': 19,\n",
              " 'spatial_relation': 1,\n",
              " 'state': 23,\n",
              " 'timeRange': 4,\n",
              " 'track': 21,\n",
              " 'year': 8}"
            ]
          },
          "metadata": {
            "tags": []
          },
          "execution_count": 18
        }
      ]
    },
    {
      "cell_type": "code",
      "metadata": {
        "colab": {
          "base_uri": "https://localhost:8080/"
        },
        "id": "62lsuEZoVT84",
        "outputId": "5fa8575f-c71a-48ca-8396-abe6961d77c5"
      },
      "source": [
        "def get_slot_from_word(word, slot_dict):\n",
        "    for slot_label,value in slot_dict.items():\n",
        "        if word in value.split():\n",
        "            return slot_label\n",
        "    return None\n",
        "\n",
        "print(train_data[0].text)\n",
        "print(train_data[0].slots)\n",
        "print(\"slot_name for my is : \",get_slot_from_word(\"my\", train_data[0].slots))"
      ],
      "execution_count": null,
      "outputs": [
        {
          "output_type": "stream",
          "text": [
            "Add a tune to my elrow Guest List\n",
            "{'music_item': 'tune', 'playlist_owner': 'my', 'playlist': 'elrow Guest List'}\n",
            "slot_name for my is :  playlist_owner\n"
          ],
          "name": "stdout"
        }
      ]
    },
    {
      "cell_type": "code",
      "metadata": {
        "id": "6VUnAC8-VT84"
      },
      "source": [
        "def encode_slots(all_slots, all_texts, \n",
        "                 toknizer, slot_map, max_len=43):\n",
        "    encoded_slots = np.zeros(shape=(len(all_texts), max_len), dtype=np.int32)\n",
        "    \n",
        "    for idx, text in enumerate(all_texts):\n",
        "        enc = [] # for this idx, to be added at the end to encoded_slots\n",
        "        \n",
        "        # slot names for this idx\n",
        "        slot_names = all_slots[idx]\n",
        "        \n",
        "        # raw word tokens\n",
        "        # not using bert for this block because bert uses\n",
        "        # a wordpiece tokenizer which will make \n",
        "        # the slot label to word mapping\n",
        "        # difficult\n",
        "        raw_tokens = text.split()\n",
        "\n",
        "        # words or slot_values associated with a certain\n",
        "        # slot_name are contained in the values of the\n",
        "        # dict slots_names\n",
        "        # now this becomes a two way lookup\n",
        "        # first we check if a word belongs to any\n",
        "        # slot label or not and then we add the value from\n",
        "        # slot map to encoded for that word\n",
        "        for rt in raw_tokens:\n",
        "            # use bert tokenizer\n",
        "            # to get wordpiece tokens\n",
        "            bert_tokens = tokenizer.tokenize(rt)\n",
        "            \n",
        "            # find the slot name for a token\n",
        "            rt_slot_name = get_slot_from_word(rt, slot_names)\n",
        "            if rt_slot_name is not None:\n",
        "                # fill with the slot_map value for all ber tokens for rt\n",
        "                enc.append(slot_map[rt_slot_name])\n",
        "                enc.extend([slot_map[rt_slot_name]] * (len(bert_tokens) - 1))\n",
        "\n",
        "            else:\n",
        "                # rt is not associated with any slot name\n",
        "                enc.append(0)\n",
        "\n",
        "        \n",
        "        # now add to encoded_slots\n",
        "        # ignore the first and the last elements\n",
        "        # in encoded text as they're special chars\n",
        "        encoded_slots[idx, 1:len(enc)+1] = enc\n",
        "    \n",
        "    return encoded_slots\n",
        "    "
      ],
      "execution_count": null,
      "outputs": []
    },
    {
      "cell_type": "code",
      "metadata": {
        "id": "H1Hj-St4VT84"
      },
      "source": [
        "all_slots = [td.slots for td in train_data]\n",
        "all_texts = [td.text for td in train_data]"
      ],
      "execution_count": null,
      "outputs": []
    },
    {
      "cell_type": "code",
      "metadata": {
        "id": "wIEsMzT8VT84"
      },
      "source": [
        "encoded_slots = encode_slots(all_slots, all_texts, tokenizer, slot_map)"
      ],
      "execution_count": null,
      "outputs": []
    },
    {
      "cell_type": "code",
      "metadata": {
        "colab": {
          "base_uri": "https://localhost:8080/"
        },
        "id": "qw9aA2_gVT84",
        "outputId": "1d59b868-3cbb-477a-d9cf-194fac2b3688"
      },
      "source": [
        "encoded_slots[0]"
      ],
      "execution_count": null,
      "outputs": [
        {
          "output_type": "execute_result",
          "data": {
            "text/plain": [
              "array([ 0,  0,  0, 30,  0, 36,  7,  7,  7,  7,  0,  0,  0,  0,  0,  0,  0,\n",
              "        0,  0,  0,  0,  0,  0,  0,  0,  0,  0,  0,  0,  0,  0,  0,  0,  0,\n",
              "        0,  0,  0,  0,  0,  0,  0,  0,  0], dtype=int32)"
            ]
          },
          "metadata": {
            "tags": []
          },
          "execution_count": 23
        }
      ]
    },
    {
      "cell_type": "code",
      "metadata": {
        "id": "qcmMMQaLVT84"
      },
      "source": [
        "class JointIntentAndSlotFillingModel(tf.keras.Model):\n",
        "\n",
        "    def __init__(self, intent_num_labels=None, slot_num_labels=None,\n",
        "                 model_name=model_name, dropout_prob=0.1):\n",
        "        super().__init__(name=\"joint_intent_slot\")\n",
        "        self.bert = TFBertModel.from_pretrained(model_name)\n",
        "        self.dropout = Dropout(dropout_prob)\n",
        "        self.intent_classifier = Dense(intent_num_labels,\n",
        "                                       name=\"intent_classifier\")\n",
        "        self.slot_classifier = Dense(slot_num_labels,\n",
        "                                     name=\"slot_classifier\")\n",
        "\n",
        "    def call(self, inputs, **kwargs):\n",
        "        trained_bert = self.bert(inputs, **kwargs)\n",
        "        pooled_output = trained_bert.pooler_output\n",
        "        sequence_output = trained_bert.last_hidden_state\n",
        "        \n",
        "        # The first output of the main BERT layer has shape:\n",
        "        # (batch_size, max_length, output_dim)\n",
        "        sequence_output = self.dropout(sequence_output,\n",
        "                                       training=kwargs.get(\"training\", False))\n",
        "        slot_logits = self.slot_classifier(sequence_output)\n",
        "\n",
        "        # The second output of the main BERT layer has shape:\n",
        "        # (batch_size, output_dim)\n",
        "        # and gives a \"pooled\" representation for the full sequence from the\n",
        "        # hidden state that corresponds to the \"[CLS]\" token.\n",
        "        pooled_output = self.dropout(pooled_output,\n",
        "                                     training=kwargs.get(\"training\", False))\n",
        "        intent_logits = self.intent_classifier(pooled_output)\n",
        "\n",
        "        return slot_logits, intent_logits"
      ],
      "execution_count": null,
      "outputs": []
    },
    {
      "cell_type": "code",
      "metadata": {
        "colab": {
          "base_uri": "https://localhost:8080/",
          "height": 173,
          "referenced_widgets": [
            "1b57a04db6f243ac9c7d7b8f40364d3f",
            "11337953e1c14f6bbcbdf8038e7ceafd",
            "a569ca06d84c43bea16496d2968db755",
            "7606425e0ccd4cca8d08e40141a1b6c5",
            "a645b7ff63bf433b80ce2d68553298a1",
            "c54f0388ca8a45f98e66c3a49aab1266",
            "b2b996ebf39f4b50a9d3ce3b5039562e",
            "5344b2c9210447fb99adc8370d771742"
          ]
        },
        "id": "bMpHQUuwVT84",
        "outputId": "987fb7e0-8dc5-43c2-a96b-6d689054217f"
      },
      "source": [
        "joint_model = JointIntentAndSlotFillingModel(\n",
        "    intent_num_labels=len(intent_dict), slot_num_labels=len(slot_map))"
      ],
      "execution_count": null,
      "outputs": [
        {
          "output_type": "display_data",
          "data": {
            "application/vnd.jupyter.widget-view+json": {
              "model_id": "1b57a04db6f243ac9c7d7b8f40364d3f",
              "version_minor": 0,
              "version_major": 2
            },
            "text/plain": [
              "HBox(children=(FloatProgress(value=0.0, description='Downloading', max=526681800.0, style=ProgressStyle(descri…"
            ]
          },
          "metadata": {
            "tags": []
          }
        },
        {
          "output_type": "stream",
          "text": [
            "\n"
          ],
          "name": "stdout"
        },
        {
          "output_type": "stream",
          "text": [
            "Some layers from the model checkpoint at bert-base-cased were not used when initializing TFBertModel: ['mlm___cls', 'nsp___cls']\n",
            "- This IS expected if you are initializing TFBertModel from the checkpoint of a model trained on another task or with another architecture (e.g. initializing a BertForSequenceClassification model from a BertForPreTraining model).\n",
            "- This IS NOT expected if you are initializing TFBertModel from the checkpoint of a model that you expect to be exactly identical (initializing a BertForSequenceClassification model from a BertForSequenceClassification model).\n",
            "All the layers of TFBertModel were initialized from the model checkpoint at bert-base-cased.\n",
            "If your task is similar to the task the model of the checkpoint was trained on, you can already use TFBertModel for predictions without further training.\n"
          ],
          "name": "stderr"
        }
      ]
    },
    {
      "cell_type": "code",
      "metadata": {
        "id": "GMZeZf3JVT84"
      },
      "source": [
        "opt = Adam(learning_rate=3e-5, epsilon=1e-08)\n",
        "losses = [SparseCategoricalCrossentropy(from_logits=True),\n",
        "          SparseCategoricalCrossentropy(from_logits=True)]\n",
        "metrics = [SparseCategoricalAccuracy(\"accuracy\")]\n",
        "joint_model.compile(optimizer=opt, loss=losses, metrics=metrics)"
      ],
      "execution_count": null,
      "outputs": []
    },
    {
      "cell_type": "code",
      "metadata": {
        "colab": {
          "base_uri": "https://localhost:8080/"
        },
        "id": "Uae9vd77VT84",
        "outputId": "41ff1ea1-7771-4d5c-eab1-4b0479310626"
      },
      "source": [
        "x = {\"input_ids\": encoded_texts[\"input_ids\"], \"token_type_ids\": encoded_texts[\"token_type_ids\"],  \"attention_mask\": encoded_texts[\"attention_mask\"]}\n",
        "\n",
        "history = joint_model.fit(\n",
        "    x, (encoded_slots, encoded_intents), epochs=2, batch_size=32, shuffle=True)"
      ],
      "execution_count": null,
      "outputs": [
        {
          "output_type": "stream",
          "text": [
            "Epoch 1/2\n",
            "WARNING:tensorflow:AutoGraph could not transform <bound method Socket.send of <zmq.sugar.socket.Socket object at 0x7fa597ebf6c8>> and will run it as-is.\n",
            "Please report this to the TensorFlow team. When filing the bug, set the verbosity to 10 (on Linux, `export AUTOGRAPH_VERBOSITY=10`) and attach the full output.\n",
            "Cause: <cyfunction Socket.send at 0x7fa5b5319110> is not a module, class, method, function, traceback, frame, or code object\n",
            "To silence this warning, decorate the function with @tf.autograph.experimental.do_not_convert\n",
            "WARNING: AutoGraph could not transform <bound method Socket.send of <zmq.sugar.socket.Socket object at 0x7fa597ebf6c8>> and will run it as-is.\n",
            "Please report this to the TensorFlow team. When filing the bug, set the verbosity to 10 (on Linux, `export AUTOGRAPH_VERBOSITY=10`) and attach the full output.\n",
            "Cause: <cyfunction Socket.send at 0x7fa5b5319110> is not a module, class, method, function, traceback, frame, or code object\n",
            "To silence this warning, decorate the function with @tf.autograph.experimental.do_not_convert\n"
          ],
          "name": "stdout"
        },
        {
          "output_type": "stream",
          "text": [
            "The parameters `output_attentions`, `output_hidden_states` and `use_cache` cannot be updated when calling a model.They have to be set to True/False in the config object (i.e.: `config=XConfig.from_pretrained('name', output_attentions=True)`).\n"
          ],
          "name": "stderr"
        },
        {
          "output_type": "stream",
          "text": [
            "WARNING:tensorflow:AutoGraph could not transform <function wrap at 0x7fa5b31f8b70> and will run it as-is.\n",
            "Cause: while/else statement not yet supported\n",
            "To silence this warning, decorate the function with @tf.autograph.experimental.do_not_convert\n"
          ],
          "name": "stdout"
        },
        {
          "output_type": "stream",
          "text": [
            "The parameter `return_dict` cannot be set in graph mode and will always be set to `True`.\n"
          ],
          "name": "stderr"
        },
        {
          "output_type": "stream",
          "text": [
            "WARNING: AutoGraph could not transform <function wrap at 0x7fa5b31f8b70> and will run it as-is.\n",
            "Cause: while/else statement not yet supported\n",
            "To silence this warning, decorate the function with @tf.autograph.experimental.do_not_convert\n"
          ],
          "name": "stdout"
        },
        {
          "output_type": "stream",
          "text": [
            "The parameters `output_attentions`, `output_hidden_states` and `use_cache` cannot be updated when calling a model.They have to be set to True/False in the config object (i.e.: `config=XConfig.from_pretrained('name', output_attentions=True)`).\n",
            "The parameter `return_dict` cannot be set in graph mode and will always be set to `True`.\n"
          ],
          "name": "stderr"
        },
        {
          "output_type": "stream",
          "text": [
            "316/316 [==============================] - 124s 282ms/step - loss: 1.4728 - output_1_loss: 0.7262 - output_2_loss: 0.7466 - output_1_accuracy: 0.8494 - output_2_accuracy: 0.7371\n",
            "Epoch 2/2\n",
            "316/316 [==============================] - 93s 293ms/step - loss: 0.1476 - output_1_loss: 0.1161 - output_2_loss: 0.0315 - output_1_accuracy: 0.9663 - output_2_accuracy: 0.9901\n"
          ],
          "name": "stdout"
        }
      ]
    },
    {
      "cell_type": "code",
      "metadata": {
        "id": "CZqMiC_gZM5s"
      },
      "source": [
        "def nlu(text, tokenizer, model, intent_names, slot_names):\n",
        "    inputs = tf.constant(tokenizer.encode(text))[None, :]  # batch_size = 1\n",
        "    outputs = model(inputs)\n",
        "    slot_logits, intent_logits = outputs\n",
        "\n",
        "    slot_ids = slot_logits.numpy().argmax(axis=-1)[0, :]\n",
        "    intent_id = intent_logits.numpy().argmax(axis=-1)[0]\n",
        "\n",
        "    info = {\"intent\": intent_names[intent_id], \"slots\": {}}\n",
        "\n",
        "    out_dict = {}\n",
        "    # get all slot names and add to out_dict as keys\n",
        "    predicted_slots = set([slot_names[s] for s in slot_ids if s != 0])\n",
        "    for ps in predicted_slots:\n",
        "      out_dict[ps] = []\n",
        "\n",
        "    # check if the text starts with a small letter\n",
        "    if text[0].islower():\n",
        "      tokens = tokenizer.tokenize(text, add_special_tokens=True)\n",
        "    else:\n",
        "      tokens = tokenizer.tokenize(text)\n",
        "    for token, slot_id in zip(tokens, slot_ids):\n",
        "        # add all to out_dict\n",
        "        slot_name = slot_names[slot_id]\n",
        "\n",
        "        if slot_name == \"nil\":\n",
        "            continue\n",
        "\n",
        "        # collect tokens\n",
        "        collected_tokens = [token]\n",
        "        idx = tokens.index(token)\n",
        "\n",
        "        # see if it starts with ##\n",
        "        # then it belongs to the previous token\n",
        "        if token.startswith(\"##\"):\n",
        "          # check if the token already exists or not\n",
        "          if tokens[idx - 1] not in out_dict[slot_name]:\n",
        "            collected_tokens.insert(0, tokens[idx - 1])\n",
        "\n",
        "        # add collected tokens to slots\n",
        "        out_dict[slot_name].extend(collected_tokens)\n",
        "\n",
        "    # process out_dict\n",
        "    for slot_name in out_dict:\n",
        "        tokens = out_dict[slot_name]\n",
        "        slot_value = tokenizer.convert_tokens_to_string(tokens)\n",
        "\n",
        "        info[\"slots\"][slot_name] = slot_value.strip()\n",
        "\n",
        "    return info\n"
      ],
      "execution_count": null,
      "outputs": []
    },
    {
      "cell_type": "code",
      "metadata": {
        "id": "OEieGtrtVT84"
      },
      "source": [
        "joint_model.save_weights(\"bert_joint_weights/\")"
      ],
      "execution_count": null,
      "outputs": []
    },
    {
      "cell_type": "code",
      "metadata": {
        "id": "8ikoiObKAYWQ"
      },
      "source": [
        "def read_dev_data(file=\"dev.json\"):\n",
        "    dev_texts = []\n",
        "    with open(file, \"r\", encoding=\"utf-8\") as json_file:\n",
        "        data = json.load(json_file)\n",
        "\n",
        "        for k in data.keys():\n",
        "          text = data[k][\"text\"]\n",
        "          dev_texts.append(text)\n",
        "          \n",
        "    return dev_texts\n",
        "dev_texts = read_dev_data()"
      ],
      "execution_count": null,
      "outputs": []
    },
    {
      "cell_type": "code",
      "metadata": {
        "colab": {
          "base_uri": "https://localhost:8080/"
        },
        "id": "KVAO36SFCTRc",
        "outputId": "d216f579-5d20-450a-d7dc-cf520f7ec070"
      },
      "source": [
        "from tqdm import tqdm\n",
        "\n",
        "results = []\n",
        "for i in tqdm(range(len(dev_texts))):\n",
        "    res = nlu(dev_texts[i], tokenizer, joint_model, unique_intents, unique_slots)\n",
        "    results.append(res)"
      ],
      "execution_count": null,
      "outputs": [
        {
          "output_type": "stream",
          "text": [
            "100%|██████████| 2887/2887 [03:12<00:00, 15.02it/s]\n"
          ],
          "name": "stderr"
        }
      ]
    },
    {
      "cell_type": "code",
      "metadata": {
        "id": "85iJGRUIDWEc"
      },
      "source": [
        "# process results\n",
        "results_dict = dict()\n",
        "\n",
        "for idx, res in enumerate(results):\n",
        "    results_dict[str(idx)] = res"
      ],
      "execution_count": null,
      "outputs": []
    },
    {
      "cell_type": "code",
      "metadata": {
        "id": "blUA-FCxEwbQ"
      },
      "source": [
        "with open(\"prediction.json\", \"w\") as f:\n",
        "    json.dump(results_dict, f, indent=2)"
      ],
      "execution_count": null,
      "outputs": []
    }
  ]
}